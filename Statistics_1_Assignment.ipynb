{
 "nbformat": 4,
 "nbformat_minor": 0,
 "metadata": {
  "colab": {
   "provenance": []
  },
  "kernelspec": {
   "name": "python3",
   "display_name": "Python 3 (ipykernel)",
   "language": "python"
  },
  "language_info": {
   "name": "python"
  }
 },
 "cells": [
  {
   "cell_type": "markdown",
   "source": [
    "# Analysis of Stock Returns"
   ],
   "metadata": {
    "id": "HhiNLCcOlvZb"
   }
  },
  {
   "cell_type": "markdown",
   "source": [
    "*Investors often look at the relationship between the returns of different stocks to make informed decisions. Covariance and correlation are two statistical measures that help in understanding this relationship. Covariance indicates the direction of the linear relationship between the returns of two stocks, while correlation indicates both the strength and direction of this relationship.*"
   ],
   "metadata": {
    "id": "51tNwEQul2r6"
   }
  },
  {
   "cell_type": "markdown",
   "source": [
    "You are given the monthly returns of two stocks, Stock A and Stock B, over a period of one year. The returns (in percentage) for each month are as follows:\n",
    "\n",
    "Stock A: [2.5, 3.0, -2.0, 4.0, 3.5, -1.5, 2.0, -0.5, 1.5, 2.5, -1.0, 3.0]\n",
    "\n",
    "Stock B: [1.5, 2.0, -1.0, 3.0, 2.5, -2.0, 1.0, -0.5, 1.0, 2.0, -0.5, 2.5]\n"
   ],
   "metadata": {
    "id": "7GEn9S6V6ONt"
   }
  },
  {
   "cell_type": "markdown",
   "source": [
    "**Tasks:**\n",
    "\n",
    "1. Calculate the mean returns for Stock A and Stock B.\n",
    "2. Compute the covariance between the returns of Stock A and Stock B.\n",
    "3. Compute the correlation coefficient between the returns of Stock A and Stock B.\n",
    "4. Interpret the results of the covariance and correlation"
   ],
   "metadata": {
    "id": "cSq6Gfog6rDE"
   }
  },
  {
   "cell_type": "code",
   "source": [
    "import numpy as np"
   ],
   "metadata": {
    "id": "Ydr53l7imCAp",
    "ExecuteTime": {
     "end_time": "2025-03-27T16:52:02.177854Z",
     "start_time": "2025-03-27T16:52:02.175619Z"
    }
   },
   "outputs": [],
   "execution_count": 3
  },
  {
   "cell_type": "code",
   "source": [
    "# Step 1: Define the returns of Stock A and Stock B\n",
    "stock_A_returns = np.array([2.5, 3.0, -2.0, 4.0, 3.5, -1.5, 2.0, -0.5, 1.5, 2.5, -1.0, 3.0])\n",
    "stock_B_returns = np.array([1.5, 2.0, -1.0, 3.0, 2.5, -2.0, 1.0, -0.5, 1.0, 2.0, -0.5, 2.5])"
   ],
   "metadata": {
    "id": "B4eThL2eiJMs",
    "ExecuteTime": {
     "end_time": "2025-03-27T16:52:05.713040Z",
     "start_time": "2025-03-27T16:52:05.710292Z"
    }
   },
   "outputs": [],
   "execution_count": 4
  },
  {
   "cell_type": "code",
   "source": [
    "# Step 2: Calculate the mean returns for Stock A and Stock B\n",
    "mean_A = np.mean(stock_A_returns)\n",
    "mean_B = np.mean(stock_B_returns)\n",
    "\n",
    "\n",
    "print(\"mean_A:\", mean_A)\n",
    "\n",
    "print(\"mean_B:\", mean_B)"
   ],
   "metadata": {
    "id": "RK9Zhcrxmyi7",
    "ExecuteTime": {
     "end_time": "2025-03-27T17:03:52.865924Z",
     "start_time": "2025-03-27T17:03:52.863274Z"
    }
   },
   "outputs": [
    {
     "name": "stdout",
     "output_type": "stream",
     "text": [
      "mean_A: 1.4166666666666667\n",
      "mean_B: 0.9583333333333334\n"
     ]
    }
   ],
   "execution_count": 7
  },
  {
   "cell_type": "code",
   "source": [
    "# Step 3: Compute the covariance between the returns of Stock A and Stock B\n",
    "cov_matrix = np.cov(stock_A_returns, stock_B_returns)\n",
    "covariance = cov_matrix[0,1]\n",
    "\n",
    "\n",
    "print(\"Covariance:\", covariance)"
   ],
   "metadata": {
    "id": "Pl4n_iRim1Wm",
    "ExecuteTime": {
     "end_time": "2025-03-27T17:06:09.413937Z",
     "start_time": "2025-03-27T17:06:09.411180Z"
    }
   },
   "outputs": [
    {
     "name": "stdout",
     "output_type": "stream",
     "text": [
      "Covariance: 3.268939393939394\n"
     ]
    }
   ],
   "execution_count": 10
  },
  {
   "cell_type": "code",
   "source": [
    "# Step 4: Compute the correlation coefficient between the returns of Stock A and Stock B\n",
    "r = np.corrcoef(stock_A_returns, stock_B_returns)[0, 1]\n",
    "print(\"Correlation coefficient:\", r)"
   ],
   "metadata": {
    "id": "aM2A43tbm3Sc",
    "ExecuteTime": {
     "end_time": "2025-03-27T17:13:56.654717Z",
     "start_time": "2025-03-27T17:13:56.651266Z"
    }
   },
   "outputs": [
    {
     "name": "stdout",
     "output_type": "stream",
     "text": [
      "Correlation coefficient: 0.9726421407657768\n"
     ]
    }
   ],
   "execution_count": 11
  },
  {
   "cell_type": "code",
   "source": [
    "# Interpretation of results\n",
    "#The correlation coefficient is very high, nearing 1 meaning the stocks are almost exactly correlated and will move together. With stocks this could mean that there is not enough diversification. "
   ],
   "metadata": {
    "id": "-aAdD_K3nND8"
   },
   "execution_count": null,
   "outputs": []
  },
  {
   "cell_type": "markdown",
   "source": [
    "# Analysis of Heights"
   ],
   "metadata": {
    "id": "XGdm2RdX3OLA"
   }
  },
  {
   "cell_type": "markdown",
   "source": [
    "*John is visiting planet Utopia and he figures out that the population is 1 million. Utopians are very tall and their height varies between 180 cm and 250 cm. John tries to estimate the population size by randomly identifying 10000 people n times and finds their mean heights. Can you help John do the following using python?*"
   ],
   "metadata": {
    "id": "rvwEwheg3n59"
   }
  },
  {
   "cell_type": "markdown",
   "source": [
    "1. Generate population samples of size 10000 with height between 180 cm and 250 cm by varying n(number of times you identify 10000 random people) as following:\n",
    "\n",
    "a. 5\n",
    "\n",
    "b. 10\n",
    "\n",
    "c. 100\n",
    "\n",
    "d. 1000\n",
    "\n",
    "e. 10000"
   ],
   "metadata": {
    "id": "mYnT5uYY7SsE"
   }
  },
  {
   "cell_type": "code",
   "source": [],
   "metadata": {
    "id": "TAnjo7mR4LD0"
   },
   "execution_count": null,
   "outputs": []
  },
  {
   "cell_type": "markdown",
   "source": [
    "2. Plot histogram of the population means"
   ],
   "metadata": {
    "id": "cvf9xJlc4O4U"
   }
  },
  {
   "cell_type": "code",
   "source": [],
   "metadata": {
    "id": "5lCb5ciG4TT3"
   },
   "execution_count": null,
   "outputs": []
  },
  {
   "cell_type": "markdown",
   "source": [
    "3. Does the population mean approach normal distribution as the sample size increases?"
   ],
   "metadata": {
    "id": "eZ0quNwJ40-8"
   }
  }
 ]
}
